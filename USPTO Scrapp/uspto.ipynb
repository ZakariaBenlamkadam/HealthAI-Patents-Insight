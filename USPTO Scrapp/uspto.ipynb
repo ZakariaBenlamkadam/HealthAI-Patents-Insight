{
 "cells": [
  {
   "cell_type": "code",
   "execution_count": 21,
   "id": "01e22256-9c7a-4dbb-b3ee-352b8c9aef2e",
   "metadata": {},
   "outputs": [
    {
     "name": "stdout",
     "output_type": "stream",
     "text": [
      "Ligne ajoutée avec succès: ['1', 'US-20240089993-A1', 'Preview   PDF', 'METHOD FOR SELECTING RESOURCE IN CONSIDERATION OF ACTIVE TIME RELATED TO SL DRX IN NR V2X', 'LEE; Seungmin et al.', '2024-03-14', '37']\n",
      "Ligne ajoutée avec succès: ['2', 'US-20240082395-A1', 'Preview   PDF', 'Anti-SIRP-Alpha Antibodies and Methods of Use Thereof', 'Pincetic; Andrew et al.', '2024-03-14', '88']\n",
      "Ligne ajoutée avec succès: ['3', 'US-20240082461-A1', 'Preview   PDF', 'PATCH GRAFT COMPOSITIONS FOR CELL ENGRAFTMENT', 'Reid; Lola M. et al.', '2024-03-14', '67']\n",
      "Ligne ajoutée avec succès: ['4', 'US-20240082373-A1', 'Preview   PDF', 'COMPOSITIONS FOR CHIMERIC ANTIGEN RECEPTOR T CELL THERAPY AND USES THEREOF', 'IRVINE; Darrell J. et al.', '2024-03-14', '63']\n",
      "Ligne ajoutée avec succès: ['5', 'US-20240084364-A1', 'Preview   PDF', 'CRISPR ENZYMES AND SYSTEMS', 'ZHANG; Feng et al.', '2024-03-14', '666']\n",
      "Ligne ajoutée avec succès: ['6', 'US-20240081653-A1', 'Preview   PDF', 'ECG-BASED CARDIAC EJECTION-FRACTION SCREENING', 'Attia; Itzhak Zachi et al.', '2024-03-14', '32']\n",
      "Ligne ajoutée avec succès: ['7', 'US-20240087749-A1', 'Preview   PDF', 'METHOD AND USES OF DIAGNOSING AND RECOMMENDING TREATMENT FOR A PSYCHOTIC DISORDER', 'Granger; Kiri et al.', '2024-03-14', '58']\n",
      "Ligne ajoutée avec succès: ['8', 'US-20240083904-A1', 'Preview   PDF', 'ANTAGONISTS OF THE ADENOSINE A2A RECEPTOR', 'McCarthy; Clive et al.', '2024-03-14', '56']\n",
      "Ligne ajoutée avec succès: ['9', 'US-20240089982-A1', 'Preview   PDF', 'METHOD AND DEVICE FOR REPORTING HARQ FEEDBACK TO BASE STATION IN NR V2X', 'LEE; Seungmin et al.', '2024-03-14', '45']\n",
      "Ligne ajoutée avec succès: ['10', 'US-20240087700-A1', 'Preview   PDF', 'System and Method for Steering Care Plan Actions by Detecting Tone, Emotion, and/or Health Outcome', 'Gnanasambandam; Nathan et al.', '2024-03-14', '148']\n",
      "ok\n"
     ]
    }
   ],
   "source": [
    "from selenium import webdriver\n",
    "from selenium.webdriver.chrome.service import Service\n",
    "from selenium.webdriver.chrome.options import Options\n",
    "from selenium.webdriver.common.by import By\n",
    "from selenium.webdriver.support.ui import WebDriverWait\n",
    "from selenium.webdriver.support import expected_conditions as EC\n",
    "from webdriver_manager.chrome import ChromeDriverManager\n",
    "import time\n",
    "\n",
    "options = Options()\n",
    "options.add_experimental_option(\"detach\", True)\n",
    "\n",
    "# Define the website URL  \n",
    "website = 'https://ppubs.uspto.gov/pubwebapp/static/pages/ppubsbasic.html'\n",
    "\n",
    "# Initialize Chrome WebDriver\n",
    "driver = webdriver.Chrome(service=Service(ChromeDriverManager().install()), options=options)\n",
    "driver.get(website)\n",
    "driver.maximize_window()\n",
    "\n",
    "lignes = []\n",
    "\n",
    "try:\n",
    "     # Perform the search\n",
    "    search_input_1 = WebDriverWait(driver, 10).until(\n",
    "        EC.element_to_be_clickable((By.XPATH, '//*[@id=\"searchText1\"]'))\n",
    "    )\n",
    "    search_input_1.click()  # Clicking to focus on the search input field\n",
    "    search_input_1.clear()  # Clearing any existing text\n",
    "    search_input_1.send_keys('AI ')  # Sending the search query\n",
    "    \n",
    "    search_input_2 = WebDriverWait(driver, 10).until(\n",
    "        EC.element_to_be_clickable((By.XPATH, '//*[@id=\"searchText2\"]'))\n",
    "    )\n",
    "    search_input_2.click()  # Clicking to focus on the search input field\n",
    "    search_input_2.clear()  # Clearing any existing text\n",
    "    search_input_2.send_keys('medicine ')  # Sending the search query\n",
    "\n",
    "    search_button = WebDriverWait(driver, 10).until(\n",
    "        EC.element_to_be_clickable((By.XPATH, '//*[@id=\"basicSearchBtn\"]'))\n",
    "    )\n",
    "    search_button.click()  # Clicking on the search button\n",
    "    \n",
    "    # Wait for the page to load with the new number of patents per page\n",
    "    time.sleep(5)\n",
    "    \n",
    "\n",
    "    # Attendre que le tableau des brevets soit chargé\n",
    "    table = driver.find_element(By.XPATH, '//*[@id=\"searchResults\"]/tbody')\n",
    "    for i in range(1000):  # Parcourir les 10 premières lignes du tableau\n",
    "        ligne = []  # Initialiser une liste pour stocker les éléments de chaque ligne\n",
    "        for j in range(700):  # Parcourir les 7 colonnes de chaque ligne\n",
    "            element = driver.find_element(By.XPATH, f'//*[@id=\"searchResults\"]/tbody/tr[{i + 1}]/td[{j + 1}]')\n",
    "            ligne.append(element.text)  # Ajouter le texte de l'élément à la liste\n",
    "        lignes.append(ligne)  # Ajouter la liste des éléments de la ligne à la liste globale\n",
    "        print(\"Ligne ajoutée avec succès:\", ligne)\n",
    "finally:\n",
    "    #driver.quit()\n",
    "    print(\"ok\")\n"
   ]
  },
  {
   "cell_type": "code",
   "execution_count": null,
   "id": "77d9ff6d-0ca6-4746-ba7a-e4a3c21266f8",
   "metadata": {},
   "outputs": [],
   "source": []
  }
 ],
 "metadata": {
  "kernelspec": {
   "display_name": "Python 3 (ipykernel)",
   "language": "python",
   "name": "python3"
  },
  "language_info": {
   "codemirror_mode": {
    "name": "ipython",
    "version": 3
   },
   "file_extension": ".py",
   "mimetype": "text/x-python",
   "name": "python",
   "nbconvert_exporter": "python",
   "pygments_lexer": "ipython3",
   "version": "3.12.2"
  }
 },
 "nbformat": 4,
 "nbformat_minor": 5
}
